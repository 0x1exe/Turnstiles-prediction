{
  "cells": [
    {
      "cell_type": "markdown",
      "metadata": {
        "id": "mHBvAwceD18q"
      },
      "source": [
        "**Задача**: на основе накопленных данных идентифицировать посетителя в зависимости от характерного времени его прохода на территорию организации, исключив вероятность передачи пропуска одним сотрудником другому. Таким образом необходимо исключить ситуации, когда один сотрудник прикладывает пропуск за другого, который даже не появляется в организации, но по цифровому следу присуствует на ее территории."
      ]
    },
    {
      "cell_type": "markdown",
      "metadata": {
        "id": "LhFc-5y6JVfy"
      },
      "source": [
        "## EDA"
      ]
    },
    {
      "cell_type": "code",
      "source": [
        "!pip install -q catboost"
      ],
      "metadata": {
        "id": "xaGxgEaH6owL",
        "colab": {
          "base_uri": "https://localhost:8080/"
        },
        "outputId": "8b3e198e-b4d2-41ba-a133-d31405b7c200"
      },
      "execution_count": 1,
      "outputs": [
        {
          "output_type": "stream",
          "name": "stdout",
          "text": [
            "\u001b[2K   \u001b[90m━━━━━━━━━━━━━━━━━━━━━━━━━━━━━━━━━━━━━━━━\u001b[0m \u001b[32m98.7/98.7 MB\u001b[0m \u001b[31m6.8 MB/s\u001b[0m eta \u001b[36m0:00:00\u001b[0m\n",
            "\u001b[?25h"
          ]
        }
      ]
    },
    {
      "cell_type": "code",
      "execution_count": 2,
      "metadata": {
        "id": "9a1ihYWvCQuu"
      },
      "outputs": [],
      "source": [
        "import pandas as pd\n",
        "import numpy as np\n",
        "import random\n",
        "import matplotlib.pyplot as plt\n",
        "import seaborn as sns\n",
        "from datetime import (\n",
        "    date,\n",
        "    datetime)\n",
        "from dateutil import relativedelta\n",
        "from tqdm.notebook import tqdm\n",
        "tqdm.pandas()\n",
        "\n",
        "from sklearn.preprocessing import (\n",
        "    MinMaxScaler,\n",
        "    PolynomialFeatures)\n",
        "from sklearn.feature_selection import (\n",
        "    SelectKBest,\n",
        "    f_regression,\n",
        "    chi2)\n",
        "from sklearn.model_selection import (\n",
        "    GridSearchCV,\n",
        "    RandomizedSearchCV,\n",
        "    StratifiedKFold)\n",
        "from sklearn import set_config\n",
        "from sklearn.pipeline import make_pipeline\n",
        "from imblearn.pipeline import Pipeline as imb_pipeline\n",
        "from sklearn.compose import (\n",
        "    ColumnTransformer,\n",
        "    make_column_selector as selector)\n",
        "\n",
        "from sklearn.linear_model import LogisticRegression\n",
        "from sklearn.multiclass import OneVsRestClassifier\n",
        "from catboost import CatBoostClassifier\n",
        "\n",
        "from sklearn.metrics import (\n",
        "    roc_auc_score,\n",
        "    classification_report,\n",
        "    confusion_matrix,\n",
        "    ConfusionMatrixDisplay)\n",
        "\n",
        "set_config(display=\"diagram\")\n",
        "\n",
        "import warnings\n",
        "warnings.filterwarnings('ignore')\n",
        "\n",
        "RANDOM_STATE = 1"
      ]
    },
    {
      "cell_type": "code",
      "execution_count": null,
      "metadata": {
        "id": "1LIZ_y8jCcXZ"
      },
      "outputs": [],
      "source": [
        "! gdown 1-UkWwmStmUN9LftkimdKQ2CmYP-n3RDt\n",
        "! unzip -o /content/turnstiles.zip"
      ]
    },
    {
      "cell_type": "code",
      "source": [
        "train = pd.read_csv('/content/turnstiles/train.csv', index_col = 0)\n",
        "test = pd.read_csv('/content/turnstiles/test.csv', index_col = 0)"
      ],
      "metadata": {
        "id": "2lynHZfY9Yxh"
      },
      "execution_count": null,
      "outputs": []
    },
    {
      "cell_type": "code",
      "execution_count": null,
      "metadata": {
        "id": "et2XTxuZCcaT"
      },
      "outputs": [],
      "source": [
        "train.tail()"
      ]
    },
    {
      "cell_type": "code",
      "execution_count": null,
      "metadata": {
        "id": "oLd3fP45CcdP"
      },
      "outputs": [],
      "source": [
        "test.head()"
      ]
    },
    {
      "cell_type": "code",
      "execution_count": null,
      "metadata": {
        "id": "5AqO33MORPar"
      },
      "outputs": [],
      "source": [
        "train.shape, test.shape"
      ]
    },
    {
      "cell_type": "code",
      "execution_count": null,
      "metadata": {
        "id": "TLmb0xtICciy"
      },
      "outputs": [],
      "source": [
        "train.dtypes"
      ]
    },
    {
      "cell_type": "code",
      "execution_count": null,
      "metadata": {
        "id": "a5yeuNoSUxFM"
      },
      "outputs": [],
      "source": [
        "test.dtypes"
      ]
    },
    {
      "cell_type": "code",
      "execution_count": null,
      "metadata": {
        "id": "ZLnGJ0N8UxIm"
      },
      "outputs": [],
      "source": [
        "train['ts'] = pd.to_datetime(\n",
        "    train['ts'],\n",
        "    format = '%Y-%m-%d %H:%M:%S')\n",
        "\n",
        "test['ts'] = pd.to_datetime(\n",
        "    test['ts'],\n",
        "    format = '%Y-%m-%d %H:%M:%S')"
      ]
    },
    {
      "cell_type": "code",
      "execution_count": null,
      "metadata": {
        "id": "i47TZ2gyUxSE"
      },
      "outputs": [],
      "source": [
        "(\n",
        "    train['ts'].is_monotonic_increasing,\n",
        "    test['ts'].is_monotonic_increasing\n",
        ")"
      ]
    },
    {
      "cell_type": "code",
      "execution_count": null,
      "metadata": {
        "id": "0REFNlH1UxVO"
      },
      "outputs": [],
      "source": [
        "# сведения о самой ранней и поздней дате наблюдения\n",
        "print(f'Самая ранняя: {train.ts.min()}')\n",
        "print(f'Самая поздняя: {train.ts.max()}')"
      ]
    },
    {
      "cell_type": "code",
      "execution_count": null,
      "metadata": {
        "id": "r4lF6iRJayq-"
      },
      "outputs": [],
      "source": [
        "#длительность наблюдений по датасету train\n",
        "date_min = datetime.strptime(\"29/07/2022\", \"%d/%m/%Y\")\n",
        "date_max = datetime.strptime(\"31/12/2022\", \"%d/%m/%Y\")\n",
        "difference = (relativedelta.relativedelta(date_max, date_min))\n",
        "print('Число дней наблюдения по train')\n",
        "print(difference.months, 'months', difference.days, 'days')"
      ]
    },
    {
      "cell_type": "code",
      "execution_count": null,
      "metadata": {
        "id": "6BaG2_xdfIdA"
      },
      "outputs": [],
      "source": [
        "# сведения о самой ранней и поздней дате наблюдения по test\n",
        "print(f'Самая ранняя дата наблюдений: {test.ts.min()}')\n",
        "print(f'Самая поздняя дата наблюдений: {test.ts.max()}')"
      ]
    },
    {
      "cell_type": "code",
      "execution_count": null,
      "metadata": {
        "id": "gQBEhhI2fIdA"
      },
      "outputs": [],
      "source": [
        "#длительность наблюдений по датасету test\n",
        "date_min = datetime.strptime(\"03/01/2023\", \"%d/%m/%Y\")\n",
        "date_max = datetime.strptime(\"24/02/2023\", \"%d/%m/%Y\")\n",
        "difference = (relativedelta.relativedelta(date_max, date_min))\n",
        "print('Число дней наблюдения по test')\n",
        "print(difference.months, 'months', difference.days, 'days')"
      ]
    },
    {
      "cell_type": "code",
      "execution_count": null,
      "metadata": {
        "id": "AjgjaRTtf_sE"
      },
      "outputs": [],
      "source": [
        "# вычислим уникальные id пунктов и количество пересечений каждого пункта\n",
        "train_gate = train['gate_id'].value_counts(dropna = False).sort_index()\n",
        "test_gate = test['gate_id'].value_counts(dropna = False).sort_index()"
      ]
    },
    {
      "cell_type": "code",
      "source": [
        "test_gate"
      ],
      "metadata": {
        "id": "JlKruBbDYgMm"
      },
      "execution_count": null,
      "outputs": []
    },
    {
      "cell_type": "code",
      "source": [
        "train_gate"
      ],
      "metadata": {
        "id": "_GspZs6oYhSr"
      },
      "execution_count": null,
      "outputs": []
    },
    {
      "cell_type": "code",
      "execution_count": null,
      "metadata": {
        "id": "3I75VctsUJfv"
      },
      "outputs": [],
      "source": [
        "gate_only_in_train = ~np.isin(train_gate.index, test_gate.index)\n",
        "gate_only_in_test = ~np.isin(test_gate.index, train_gate.index)"
      ]
    },
    {
      "cell_type": "code",
      "source": [
        "test_gate[gate_only_in_test].index"
      ],
      "metadata": {
        "id": "Uj8xqNkqYdcz"
      },
      "execution_count": null,
      "outputs": []
    },
    {
      "cell_type": "code",
      "source": [
        "train_gate[gate_only_in_train].index"
      ],
      "metadata": {
        "id": "OsDlr8UWYeDJ"
      },
      "execution_count": null,
      "outputs": []
    },
    {
      "cell_type": "code",
      "source": [
        "#id пропускных пунктов на удаление\n",
        "list_gate_id_del = [-1, 0, 1, 2, 14, 16]"
      ],
      "metadata": {
        "id": "dG8QlPEwg8BB"
      },
      "execution_count": null,
      "outputs": []
    },
    {
      "cell_type": "code",
      "source": [
        "def del_gate(data, number_list):\n",
        "    for i in number_list:\n",
        "        data = data.query(f'gate_id != {i}')\n",
        "    return data"
      ],
      "metadata": {
        "id": "rOBOUJDYg8Du"
      },
      "execution_count": null,
      "outputs": []
    },
    {
      "cell_type": "code",
      "source": [
        "train = del_gate(train, list_gate_id_del)"
      ],
      "metadata": {
        "id": "laWVQ06ug8M3"
      },
      "execution_count": null,
      "outputs": []
    },
    {
      "cell_type": "code",
      "source": [
        "test = del_gate(test, list_gate_id_del)"
      ],
      "metadata": {
        "id": "c8NoLJtasabo"
      },
      "execution_count": null,
      "outputs": []
    },
    {
      "cell_type": "code",
      "execution_count": null,
      "metadata": {
        "id": "JbdqES1VX5av"
      },
      "outputs": [],
      "source": [
        "train['user_id'].value_counts(ascending = False).sort_index()"
      ]
    },
    {
      "cell_type": "code",
      "source": [
        "test['user_word'].value_counts(ascending = False)"
      ],
      "metadata": {
        "id": "zmJA9lUjYboD"
      },
      "execution_count": null,
      "outputs": []
    },
    {
      "cell_type": "code",
      "execution_count": null,
      "metadata": {
        "id": "uxiLgo-0X5dv"
      },
      "outputs": [],
      "source": [
        "train['user_id'].nunique()"
      ]
    },
    {
      "cell_type": "code",
      "source": [
        "test['user_word'].nunique()"
      ],
      "metadata": {
        "id": "0osKdF0SYas3"
      },
      "execution_count": null,
      "outputs": []
    },
    {
      "cell_type": "code",
      "execution_count": null,
      "metadata": {
        "id": "kNDKaredfGLa"
      },
      "outputs": [],
      "source": [
        "train.duplicated().sum()"
      ]
    },
    {
      "cell_type": "code",
      "source": [
        "test.duplicated().sum()"
      ],
      "metadata": {
        "id": "BAzppVb6YZnf"
      },
      "execution_count": null,
      "outputs": []
    },
    {
      "cell_type": "code",
      "execution_count": null,
      "metadata": {
        "id": "YzVh8X9pfGRp"
      },
      "outputs": [],
      "source": [
        "train = train.drop_duplicates()\n",
        "test = test.drop_duplicates()"
      ]
    },
    {
      "cell_type": "code",
      "execution_count": null,
      "metadata": {
        "id": "jVy76nWUfGXb"
      },
      "outputs": [],
      "source": [
        "train.isna().sum(), test.isna().sum()"
      ]
    },
    {
      "cell_type": "markdown",
      "metadata": {
        "id": "bl2jL73Fc4zh"
      },
      "source": [
        "## FEATURES\n",
        "\n",
        "---\n",
        "\n"
      ]
    },
    {
      "cell_type": "code",
      "execution_count": null,
      "metadata": {
        "id": "ffnjaBD0cz7r"
      },
      "outputs": [],
      "source": [
        "train.head(2)"
      ]
    },
    {
      "cell_type": "code",
      "execution_count": null,
      "metadata": {
        "id": "Afgji0BrQACJ"
      },
      "outputs": [],
      "source": [
        "train['day'] = train['ts'].dt.day\n",
        "train['weekday'] = train['ts'].dt.weekday\n",
        "train['hour'] = train['ts'].dt.hour\n",
        "train['minute'] = train['ts'].dt.minute"
      ]
    },
    {
      "cell_type": "code",
      "execution_count": null,
      "metadata": {
        "id": "GXwZdl19c0Bo"
      },
      "outputs": [],
      "source": [
        "test['day'] = test['ts'].dt.day\n",
        "test['weekday'] = test['ts'].dt.weekday\n",
        "test['hour'] = test['ts'].dt.hour\n",
        "test['minute'] = test['ts'].dt.minute"
      ]
    },
    {
      "cell_type": "code",
      "source": [
        "train['week_number'] = train['ts'].dt.isocalendar().week\n",
        "test['week_number'] = test['ts'].dt.isocalendar().week"
      ],
      "metadata": {
        "id": "k6cHc1OaY11b"
      },
      "execution_count": null,
      "outputs": []
    },
    {
      "cell_type": "code",
      "source": [
        "train['week_number'].value_counts().sort_index().plot(\n",
        "    grid = True,\n",
        "    color = 'orangered',\n",
        "    linewidth = 3)\n",
        "plt.title('Общее число проходов через турникеты \\n (датасет train)')\n",
        "plt.xlabel('Номер недели')\n",
        "plt.ylabel('Число пересечений турникетов')\n",
        "plt.show()"
      ],
      "metadata": {
        "id": "qRPhN_QKhHBK"
      },
      "execution_count": null,
      "outputs": []
    },
    {
      "cell_type": "code",
      "source": [
        "train.loc[train['week_number'] == 30]['weekday'].value_counts().sort_index()"
      ],
      "metadata": {
        "id": "uACrEDGliea6"
      },
      "execution_count": null,
      "outputs": []
    },
    {
      "cell_type": "code",
      "source": [
        "train.loc[train['week_number'] == 30]['day'].unique()"
      ],
      "metadata": {
        "id": "tfw0PKXvied-"
      },
      "execution_count": null,
      "outputs": []
    },
    {
      "cell_type": "code",
      "source": [
        "print(\n",
        "    train.loc[train['week_number'] == 30]['ts'].min(),\n",
        "    train.loc[train['week_number'] == 30]['ts'].max()\n",
        ")"
      ],
      "metadata": {
        "id": "9HV8NuuriehL"
      },
      "execution_count": null,
      "outputs": []
    },
    {
      "cell_type": "code",
      "source": [
        "train.loc[train['week_number'] == 45]['weekday'].value_counts().sort_index()"
      ],
      "metadata": {
        "id": "h_s2pt8fPAUJ"
      },
      "execution_count": null,
      "outputs": []
    },
    {
      "cell_type": "code",
      "source": [
        "train.loc[train['week_number'] == 45]['day'].unique()"
      ],
      "metadata": {
        "id": "CU_oW27MPAUL"
      },
      "execution_count": null,
      "outputs": []
    },
    {
      "cell_type": "code",
      "source": [
        "print(\n",
        "    train.loc[train['week_number'] == 45]['ts'].min(),\n",
        "    train.loc[train['week_number'] == 45]['ts'].max()\n",
        ")"
      ],
      "metadata": {
        "id": "nDx-5Y-1PAUM"
      },
      "execution_count": null,
      "outputs": []
    },
    {
      "cell_type": "code",
      "source": [
        "train = train.astype({'week_number': 'Int64'})"
      ],
      "metadata": {
        "id": "KA_wxm0JUubP"
      },
      "execution_count": null,
      "outputs": []
    },
    {
      "cell_type": "code",
      "source": [
        "train = train.query('week_number != 45', engine='python')"
      ],
      "metadata": {
        "id": "xNWogTtMn0HN"
      },
      "execution_count": null,
      "outputs": []
    },
    {
      "cell_type": "code",
      "source": [
        "train.shape"
      ],
      "metadata": {
        "id": "ddBrF_Uen0Kd"
      },
      "execution_count": null,
      "outputs": []
    },
    {
      "cell_type": "code",
      "source": [
        "test['week_number'].value_counts().sort_index().plot(\n",
        "    grid = True,\n",
        "    color = 'darkcyan',\n",
        "    linewidth = 3)\n",
        "plt.title('Общее число проходов через турникеты \\n (датасет test)')\n",
        "plt.xlabel('Номер недели')\n",
        "plt.ylabel('Число пересечений турникетов')\n",
        "plt.show()"
      ],
      "metadata": {
        "id": "KEy9CKeUn0NZ"
      },
      "execution_count": null,
      "outputs": []
    },
    {
      "cell_type": "code",
      "source": [
        "weeks_del = [6, 7, 8]"
      ],
      "metadata": {
        "id": "dPjNdvXBcrwU"
      },
      "execution_count": null,
      "outputs": []
    },
    {
      "cell_type": "code",
      "source": [
        "for number in weeks_del:\n",
        "    test = test.query(f'week_number != {number}', engine='python')"
      ],
      "metadata": {
        "id": "v2vvSiqse2nG"
      },
      "execution_count": null,
      "outputs": []
    },
    {
      "cell_type": "code",
      "source": [
        "test.shape"
      ],
      "metadata": {
        "id": "Z0S9man3cMZ-"
      },
      "execution_count": null,
      "outputs": []
    },
    {
      "cell_type": "code",
      "execution_count": null,
      "metadata": {
        "id": "ovUhXCNVc0J1"
      },
      "outputs": [],
      "source": [
        "train = train.drop(columns = 'ts')\n",
        "test = test.drop(columns = 'ts')"
      ]
    },
    {
      "cell_type": "code",
      "source": [
        "train = train.drop(columns = 'week_number')\n",
        "test = test.drop(columns = 'week_number')"
      ],
      "metadata": {
        "id": "kmz_Eyouf34d"
      },
      "execution_count": null,
      "outputs": []
    },
    {
      "cell_type": "code",
      "execution_count": null,
      "metadata": {
        "id": "c-TZP-WtXdQ6"
      },
      "outputs": [],
      "source": [
        "train.head(2)"
      ]
    },
    {
      "cell_type": "code",
      "execution_count": null,
      "metadata": {
        "id": "FC4Xdz_cYp8Z"
      },
      "outputs": [],
      "source": [
        "np.sort(train['hour'].unique())"
      ]
    },
    {
      "cell_type": "code",
      "execution_count": null,
      "metadata": {
        "id": "GT7jQsJPYp_h"
      },
      "outputs": [],
      "source": [
        "np.sort(test['hour'].unique())"
      ]
    },
    {
      "cell_type": "code",
      "execution_count": null,
      "metadata": {
        "id": "qHyHlTOeYqC6"
      },
      "outputs": [],
      "source": [
        "night = [0, 1, 3, 22, 23]\n",
        "morning = [6, 7, 8, 9, 10, 11]\n",
        "time_day = [12, 13, 14, 15, 16, 17]\n",
        "evening = [18, 19, 20, 21]"
      ]
    },
    {
      "cell_type": "code",
      "execution_count": null,
      "metadata": {
        "id": "tkmC294WphsJ"
      },
      "outputs": [],
      "source": [
        "day_hours = [night, morning, time_day, evening]\n",
        "\n",
        "day_hours_name = ['night', 'morning', 'time_day', 'evening']"
      ]
    },
    {
      "cell_type": "code",
      "execution_count": null,
      "metadata": {
        "id": "u1BHgfZEqWcD"
      },
      "outputs": [],
      "source": [
        "\n",
        "number = 0\n",
        "\n",
        "for i in day_hours:\n",
        "    def new_column(row):\n",
        "        if row in i:\n",
        "            return 1\n",
        "        else:\n",
        "            return 0\n",
        "\n",
        "    train[day_hours_name[number]] = \\\n",
        "        train['hour'].progress_apply(new_column)\n",
        "\n",
        "    test[day_hours_name[number]] = \\\n",
        "        test['hour'].progress_apply(new_column)\n",
        "\n",
        "    number += 1"
      ]
    },
    {
      "cell_type": "code",
      "execution_count": null,
      "metadata": {
        "id": "67KdU614qWfH"
      },
      "outputs": [],
      "source": [
        "train.head(7)"
      ]
    },
    {
      "cell_type": "code",
      "execution_count": null,
      "metadata": {
        "id": "ZUqdrwYar2WD"
      },
      "outputs": [],
      "source": [
        "temp = pd.DataFrame()\n",
        "\n",
        "temp['sum'] = train[day_hours_name].sum(axis = 1)\n",
        "print(temp.sum(axis = 0) / train.shape[0])\n",
        "\n",
        "del temp"
      ]
    },
    {
      "cell_type": "code",
      "execution_count": null,
      "metadata": {
        "id": "pksXyMGFa6oc"
      },
      "outputs": [],
      "source": [
        "np.sort(train['day'].unique())\n",
        "np.sort(test['day'].unique())"
      ]
    },
    {
      "cell_type": "code",
      "execution_count": null,
      "metadata": {
        "id": "6uWMoGNIcZQD"
      },
      "outputs": [],
      "source": [
        "train['day'].nunique(), test['day'].nunique()"
      ]
    },
    {
      "cell_type": "code",
      "execution_count": null,
      "metadata": {
        "id": "himc0wa4bedH"
      },
      "outputs": [],
      "source": [
        "day_list = list(np.sort(train['day'].unique()))\n",
        "day_list = [int(x) for x in day_list]\n",
        "type(day_list[2])"
      ]
    },
    {
      "cell_type": "code",
      "execution_count": null,
      "metadata": {
        "id": "Z2qjVZ2rbedj"
      },
      "outputs": [],
      "source": [
        "\n",
        "for i in range(len(day_list)):\n",
        "    def new_column(row):\n",
        "        if day_list[i] == row:\n",
        "            return 1\n",
        "        else:\n",
        "            return 0\n",
        "\n",
        "    train['day_' + str(i + 1)] = \\\n",
        "        train['day'].apply(new_column)\n",
        "\n",
        "    test['day_' + str(i + 1)] = \\\n",
        "        test['day'].apply(new_column)"
      ]
    },
    {
      "cell_type": "code",
      "execution_count": null,
      "metadata": {
        "id": "2oHqzi4sa6r3"
      },
      "outputs": [],
      "source": [
        "train.columns"
      ]
    },
    {
      "cell_type": "code",
      "execution_count": null,
      "metadata": {
        "id": "hEyjMQHokKt_"
      },
      "outputs": [],
      "source": [
        "day_list = ['day_' + str(x) for x in day_list]\n",
        "type(day_list[2])"
      ]
    },
    {
      "cell_type": "code",
      "execution_count": null,
      "metadata": {
        "id": "ndmCwewEgGpj"
      },
      "outputs": [],
      "source": [
        "temp = pd.DataFrame()\n",
        "\n",
        "temp['sum'] = train[day_list].sum(axis = 1)\n",
        "print(temp.sum(axis = 0) / train.shape[0])\n",
        "\n",
        "del temp\n",
        "\n",
        "temp = pd.DataFrame()\n",
        "\n",
        "temp['sum'] = test[day_list].sum(axis = 1)\n",
        "print(temp.sum(axis = 0) / test.shape[0])\n",
        "\n",
        "del temp"
      ]
    },
    {
      "cell_type": "code",
      "execution_count": null,
      "metadata": {
        "id": "eHfBBR_0jmvS"
      },
      "outputs": [],
      "source": [
        "list_weekday = np.sort(train['weekday'].unique())\n",
        "list_weekday = [int(x) for x in list_weekday]\n",
        "list_weekday"
      ]
    },
    {
      "cell_type": "code",
      "execution_count": null,
      "metadata": {
        "id": "YeC3PBmukoqf"
      },
      "outputs": [],
      "source": [
        "train['weekday'].value_counts().sort_index()"
      ]
    },
    {
      "cell_type": "code",
      "execution_count": null,
      "metadata": {
        "id": "Tr3wmLoikote"
      },
      "outputs": [],
      "source": [
        "test['weekday'].value_counts().sort_index()"
      ]
    },
    {
      "cell_type": "code",
      "execution_count": null,
      "metadata": {
        "id": "USwivcPha682"
      },
      "outputs": [],
      "source": [
        "for i in range(len(list_weekday)):\n",
        "    def new_column(row):\n",
        "        if list_weekday[i] == row:\n",
        "            return 1\n",
        "        else:\n",
        "            return 0\n",
        "\n",
        "    train['weekday_' + str(i)] = \\\n",
        "        train['weekday'].apply(new_column)\n",
        "\n",
        "    test['weekday_' + str(i)] = \\\n",
        "        test['weekday'].apply(new_column)"
      ]
    },
    {
      "cell_type": "code",
      "execution_count": null,
      "metadata": {
        "id": "ckTB4KC7nQLh"
      },
      "outputs": [],
      "source": [
        "train.columns"
      ]
    },
    {
      "cell_type": "code",
      "execution_count": null,
      "metadata": {
        "id": "ioyh65tbnQL9"
      },
      "outputs": [],
      "source": [
        "list_weekday = ['weekday_' + str(x) for x in list_weekday]\n",
        "type(list_weekday[2])"
      ]
    },
    {
      "cell_type": "code",
      "execution_count": null,
      "metadata": {
        "id": "RAtIOwkQnQL9"
      },
      "outputs": [],
      "source": [
        "temp = pd.DataFrame()\n",
        "\n",
        "temp['sum'] = train[list_weekday].sum(axis = 1)\n",
        "print(temp.sum(axis = 0) / train.shape[0])\n",
        "\n",
        "del temp\n",
        "\n",
        "temp = pd.DataFrame()\n",
        "\n",
        "temp['sum'] = test[list_weekday].sum(axis = 1)\n",
        "print(temp.sum(axis = 0) / test.shape[0])\n",
        "\n",
        "del temp"
      ]
    },
    {
      "cell_type": "code",
      "execution_count": null,
      "metadata": {
        "id": "0f-5on94nK9S"
      },
      "outputs": [],
      "source": [
        "list_hours_train = np.sort(train['hour'].unique())\n",
        "list_hours_train = [int(x) for x in list_hours_train]\n",
        "list_hours_train"
      ]
    },
    {
      "cell_type": "code",
      "execution_count": null,
      "metadata": {
        "id": "W3lwqZfqnLAJ"
      },
      "outputs": [],
      "source": [
        "list_hours_test = np.sort(test['hour'].unique())\n",
        "list_hours_test = [int(x) for x in list_hours_test]\n",
        "list_hours_test"
      ]
    },
    {
      "cell_type": "code",
      "execution_count": null,
      "metadata": {
        "id": "LcVTcJvKnLC2"
      },
      "outputs": [],
      "source": [
        "common_list_hours = list(set(list_hours_train + list_hours_test))\n",
        "common_list_hours = [int(x) for x in common_list_hours]\n",
        "common_list_hours"
      ]
    },
    {
      "cell_type": "code",
      "execution_count": null,
      "metadata": {
        "id": "eekLeANH1Gfz"
      },
      "outputs": [],
      "source": [
        "for i in range(len(common_list_hours)):\n",
        "    def new_column(row):\n",
        "        if common_list_hours[i] == row:\n",
        "            return 1\n",
        "        else:\n",
        "            return 0\n",
        "\n",
        "    train['hour_' + str(common_list_hours[i])] = \\\n",
        "        train['hour'].apply(new_column)\n",
        "\n",
        "    test['hour_' + str(common_list_hours[i])] = \\\n",
        "        test['hour'].apply(new_column)"
      ]
    },
    {
      "cell_type": "code",
      "execution_count": null,
      "metadata": {
        "id": "JjPXIBsN1GgO"
      },
      "outputs": [],
      "source": [
        "train.columns"
      ]
    },
    {
      "cell_type": "code",
      "execution_count": null,
      "metadata": {
        "id": "Bd7qXLKc5JWi"
      },
      "outputs": [],
      "source": [
        "len(test.columns) == len(train.columns)"
      ]
    },
    {
      "cell_type": "code",
      "execution_count": null,
      "metadata": {
        "id": "t0OSTPBU1GgP"
      },
      "outputs": [],
      "source": [
        "common_list_hours = ['hour_' + str(x) for x in common_list_hours]\n",
        "type(common_list_hours[2])"
      ]
    },
    {
      "cell_type": "code",
      "execution_count": null,
      "metadata": {
        "id": "aqZM48Fa11HS"
      },
      "outputs": [],
      "source": [
        "set(list_hours_test) - set(list_hours_train)"
      ]
    },
    {
      "cell_type": "code",
      "execution_count": null,
      "metadata": {
        "id": "ThN70PzT11KH"
      },
      "outputs": [],
      "source": [
        "set(list_hours_train) - set(list_hours_test)"
      ]
    },
    {
      "cell_type": "code",
      "execution_count": null,
      "metadata": {
        "id": "_z9fLg2l1GgP"
      },
      "outputs": [],
      "source": [
        "temp = pd.DataFrame()\n",
        "\n",
        "temp['sum'] = train[common_list_hours].sum(axis = 1)\n",
        "print(temp.sum(axis = 0) / train.shape[0])\n",
        "\n",
        "del temp\n",
        "\n",
        "temp = pd.DataFrame()\n",
        "\n",
        "temp['sum'] = test[common_list_hours].sum(axis = 1)\n",
        "print(temp.sum(axis = 0) / test.shape[0])\n",
        "\n",
        "del temp"
      ]
    },
    {
      "cell_type": "code",
      "execution_count": null,
      "metadata": {
        "id": "NM3gVLwoVNqk"
      },
      "outputs": [],
      "source": [
        "gate_id_train = list(np.sort(train['gate_id'].unique()))\n",
        "gate_id_train"
      ]
    },
    {
      "cell_type": "code",
      "execution_count": null,
      "metadata": {
        "id": "S4OtkjL9VNuC"
      },
      "outputs": [],
      "source": [
        "gate_id_test = list(np.sort(test['gate_id'].unique()))\n",
        "gate_id_test"
      ]
    },
    {
      "cell_type": "code",
      "execution_count": null,
      "metadata": {
        "id": "rVbt6ICEVNxN"
      },
      "outputs": [],
      "source": [
        "common_gate_list = list(set(gate_id_train + gate_id_test))\n",
        "common_gate_list = [int(x) for x in common_gate_list]\n",
        "print(common_gate_list)\n",
        "print(type(common_gate_list[5]))"
      ]
    },
    {
      "cell_type": "code",
      "execution_count": null,
      "metadata": {
        "id": "ZRuA9OMJnGiP"
      },
      "outputs": [],
      "source": [
        "for i in range(len(common_gate_list)):\n",
        "    def new_column(row):\n",
        "        if common_gate_list[i] == row:\n",
        "            return 1\n",
        "        else:\n",
        "            return 0\n",
        "\n",
        "    train['gate_id_' + str(common_gate_list[i])] = \\\n",
        "        train['gate_id'].apply(new_column)\n",
        "\n",
        "    test['gate_id_' + str(common_gate_list[i])] = \\\n",
        "        test['gate_id'].apply(new_column)"
      ]
    },
    {
      "cell_type": "code",
      "execution_count": null,
      "metadata": {
        "id": "TlMWx05snGim"
      },
      "outputs": [],
      "source": [
        "train.columns"
      ]
    },
    {
      "cell_type": "code",
      "execution_count": null,
      "metadata": {
        "id": "FF9BEutFnGin"
      },
      "outputs": [],
      "source": [
        "len(test.columns) == len(train.columns)"
      ]
    },
    {
      "cell_type": "code",
      "execution_count": null,
      "metadata": {
        "id": "QIWoQPl5nGin"
      },
      "outputs": [],
      "source": [
        "common_gate_list = ['gate_id_' + str(x) for x in common_gate_list]\n",
        "type(common_gate_list[2])"
      ]
    },
    {
      "cell_type": "code",
      "execution_count": null,
      "metadata": {
        "id": "2fPUY8ilnGip"
      },
      "outputs": [],
      "source": [
        "temp = pd.DataFrame()\n",
        "\n",
        "temp['sum'] = train[common_gate_list].sum(axis = 1)\n",
        "print(temp.sum(axis = 0) / train.shape[0])\n",
        "\n",
        "del temp\n",
        "\n",
        "temp = pd.DataFrame()\n",
        "\n",
        "temp['sum'] = test[common_gate_list].sum(axis = 1)\n",
        "print(temp.sum(axis = 0) / test.shape[0])\n",
        "\n",
        "del temp"
      ]
    },
    {
      "cell_type": "code",
      "execution_count": null,
      "metadata": {
        "id": "Gb-v6NBim4U0"
      },
      "outputs": [],
      "source": [
        "working_days = [0, 1, 2, 3, 4]\n",
        "weekends = [5, 6]"
      ]
    },
    {
      "cell_type": "code",
      "execution_count": null,
      "metadata": {
        "id": "QcVFSm2Om4VN"
      },
      "outputs": [],
      "source": [
        "week_days = [working_days, weekends]\n",
        "\n",
        "week_days_name = ['working_days', 'weekends']"
      ]
    },
    {
      "cell_type": "code",
      "execution_count": null,
      "metadata": {
        "id": "3c5qXb6Fm4VO"
      },
      "outputs": [],
      "source": [
        "\n",
        "number = 0\n",
        "\n",
        "for i in week_days:\n",
        "    def new_column(row):\n",
        "        if row in i:\n",
        "            return 1\n",
        "        else:\n",
        "            return 0\n",
        "\n",
        "    train[week_days_name[number]] = \\\n",
        "        train['weekday'].progress_apply(new_column)\n",
        "\n",
        "    test[week_days_name[number]] = \\\n",
        "        test['weekday'].progress_apply(new_column)\n",
        "\n",
        "    number += 1"
      ]
    },
    {
      "cell_type": "code",
      "execution_count": null,
      "metadata": {
        "id": "BrTvBFY-m4VP"
      },
      "outputs": [],
      "source": [
        "temp = pd.DataFrame()\n",
        "\n",
        "temp['sum'] = train[week_days_name].sum(axis = 1)\n",
        "print(temp.sum(axis = 0) / train.shape[0])\n",
        "\n",
        "del temp\n",
        "\n",
        "temp = pd.DataFrame()\n",
        "\n",
        "temp['sum'] = test[week_days_name].sum(axis = 1)\n",
        "print(temp.sum(axis = 0) / test.shape[0])\n",
        "\n",
        "del temp"
      ]
    },
    {
      "cell_type": "code",
      "execution_count": null,
      "metadata": {
        "id": "EzNSKSbSWZCz"
      },
      "outputs": [],
      "source": [
        "train['minute'].nunique() == test['minute'].nunique()"
      ]
    },
    {
      "cell_type": "code",
      "execution_count": null,
      "metadata": {
        "id": "pGp3dP3eWZC2"
      },
      "outputs": [],
      "source": [
        "first_quarter = list(range(0, 15))\n",
        "second_quarter = list(range(15, 30))\n",
        "third_quarter = list(range(30, 45))\n",
        "fourth_quarter = list(range(45, 60))"
      ]
    },
    {
      "cell_type": "code",
      "execution_count": null,
      "metadata": {
        "id": "FjNKarDwWZC3"
      },
      "outputs": [],
      "source": [
        "hour_minutes = [\n",
        "    first_quarter, second_quarter,\n",
        "    third_quarter, fourth_quarter\n",
        "]\n",
        "\n",
        "hour_minutes_names = [\n",
        "    'first_quarter', 'second_quarter',\n",
        "    'third_quarter', 'fourth_quarter'\n",
        "]"
      ]
    },
    {
      "cell_type": "code",
      "execution_count": null,
      "metadata": {
        "id": "SJvSrN-pWZC4"
      },
      "outputs": [],
      "source": [
        "number = 0\n",
        "\n",
        "for i in hour_minutes:\n",
        "    def new_column(row):\n",
        "        if row in i:\n",
        "            return 1\n",
        "        else:\n",
        "            return 0\n",
        "\n",
        "    train[hour_minutes_names[number]] = \\\n",
        "        train['minute'].progress_apply(new_column)\n",
        "\n",
        "    test[hour_minutes_names[number]] = \\\n",
        "        test['minute'].progress_apply(new_column)\n",
        "\n",
        "    number += 1"
      ]
    },
    {
      "cell_type": "code",
      "execution_count": null,
      "metadata": {
        "id": "cPvKXU80bY9U"
      },
      "outputs": [],
      "source": [
        "train.columns"
      ]
    },
    {
      "cell_type": "code",
      "execution_count": null,
      "metadata": {
        "id": "ycBAzl5lbY9x"
      },
      "outputs": [],
      "source": [
        "len(test.columns) == len(train.columns)"
      ]
    },
    {
      "cell_type": "code",
      "execution_count": null,
      "metadata": {
        "id": "_gFUih80bY90"
      },
      "outputs": [],
      "source": [
        "temp = pd.DataFrame()\n",
        "\n",
        "temp['sum'] = train[hour_minutes_names].sum(axis = 1)\n",
        "print(temp.sum(axis = 0) / train.shape[0])\n",
        "\n",
        "del temp\n",
        "\n",
        "temp = pd.DataFrame()\n",
        "\n",
        "temp['sum'] = test[hour_minutes_names].sum(axis = 1)\n",
        "print(temp.sum(axis = 0) / test.shape[0])\n",
        "\n",
        "del temp"
      ]
    },
    {
      "cell_type": "code",
      "execution_count": null,
      "metadata": {
        "id": "QwR2qgqQVN6d"
      },
      "outputs": [],
      "source": [
        "temp_train = pd.DataFrame(train.sum(), columns = ['sum_total'])\n",
        "temp_train.loc[temp_train['sum_total'] == 0]"
      ]
    },
    {
      "cell_type": "code",
      "execution_count": null,
      "metadata": {
        "id": "njdY2JCfVN-H"
      },
      "outputs": [],
      "source": [
        "temp_test = pd.DataFrame(test.sum(), columns = ['sum_total'])\n",
        "temp_test.loc[temp_test['sum_total'] == 0]"
      ]
    },
    {
      "cell_type": "code",
      "execution_count": null,
      "metadata": {
        "id": "vSI0gH44dZm3"
      },
      "outputs": [],
      "source": [
        "columns_to_del = (\n",
        "    list(temp_train.loc[temp_train['sum_total'] == 0].index) +\n",
        "    list(temp_test.loc[temp_test['sum_total'] == 0].index)\n",
        ")\n",
        "columns_to_del"
      ]
    },
    {
      "cell_type": "code",
      "execution_count": null,
      "metadata": {
        "id": "uZLTkGmQfFwJ"
      },
      "outputs": [],
      "source": [
        "train.shape, test.shape"
      ]
    },
    {
      "cell_type": "code",
      "execution_count": null,
      "metadata": {
        "id": "W_WWQmjkfFwf"
      },
      "outputs": [],
      "source": [
        "train = train.drop(columns_to_del, axis = 1)\n",
        "test = test.drop(columns_to_del, axis = 1)"
      ]
    },
    {
      "cell_type": "code",
      "execution_count": null,
      "metadata": {
        "id": "35JCa18CfFwf"
      },
      "outputs": [],
      "source": [
        "train.shape, test.shape"
      ]
    },
    {
      "cell_type": "code",
      "execution_count": null,
      "metadata": {
        "id": "blm_XLwcdZp6"
      },
      "outputs": [],
      "source": [
        "del temp_train\n",
        "del temp_test"
      ]
    },
    {
      "cell_type": "code",
      "execution_count": null,
      "metadata": {
        "id": "MIQy7xjMe_FM"
      },
      "outputs": [],
      "source": [
        "temp_train_isna = pd.DataFrame(train.isna().sum(), columns = ['isna_sum'])\n",
        "temp_train_isna['isna_sum'].sum()"
      ]
    },
    {
      "cell_type": "code",
      "execution_count": null,
      "metadata": {
        "id": "BAng7UDge_IB"
      },
      "outputs": [],
      "source": [
        "temp_test_isna = pd.DataFrame(test.isna().sum(), columns = ['isna_sum'])\n",
        "temp_test_isna['isna_sum'].sum()"
      ]
    },
    {
      "cell_type": "code",
      "execution_count": null,
      "metadata": {
        "id": "5ityF61oe_Om"
      },
      "outputs": [],
      "source": [
        "del temp_train_isna\n",
        "del temp_test_isna"
      ]
    },
    {
      "cell_type": "code",
      "execution_count": null,
      "metadata": {
        "id": "3naYwJRCaQ-s"
      },
      "outputs": [],
      "source": [
        "train.corr().style.background_gradient(cmap = 'magma')"
      ]
    },
    {
      "cell_type": "code",
      "execution_count": null,
      "metadata": {
        "id": "QpD2Uc9gkjPG"
      },
      "outputs": [],
      "source": [
        "columns_to_del = [\n",
        "    'hour_22',\n",
        "    'weekday_5',\n",
        "    'weekends'\n",
        "]"
      ]
    },
    {
      "cell_type": "code",
      "execution_count": null,
      "metadata": {
        "id": "746nfSq1tg-F"
      },
      "outputs": [],
      "source": [
        "train.shape, test.shape"
      ]
    },
    {
      "cell_type": "code",
      "execution_count": null,
      "metadata": {
        "id": "ym8RLyRztg-i"
      },
      "outputs": [],
      "source": [
        "train = train.drop(columns = columns_to_del, axis = 1)\n",
        "test = test.drop(columns = columns_to_del, axis = 1)"
      ]
    },
    {
      "cell_type": "code",
      "execution_count": null,
      "metadata": {
        "id": "iPMv6XRbtg-j"
      },
      "outputs": [],
      "source": [
        "train.shape, test.shape"
      ]
    },
    {
      "cell_type": "code",
      "execution_count": null,
      "metadata": {
        "id": "wuFbvhQ9XOyV"
      },
      "outputs": [],
      "source": [
        "features_train = train.drop(columns = 'user_id')"
      ]
    },
    {
      "cell_type": "code",
      "execution_count": null,
      "metadata": {
        "id": "w4m8wxStc0Mc"
      },
      "outputs": [],
      "source": [
        "target = train['user_id']"
      ]
    },
    {
      "cell_type": "code",
      "execution_count": null,
      "metadata": {
        "id": "z3YkYgn4XO1O"
      },
      "outputs": [],
      "source": [
        "features_train.shape, target.shape"
      ]
    },
    {
      "cell_type": "code",
      "execution_count": null,
      "metadata": {
        "id": "APBNNwyUXO4B"
      },
      "outputs": [],
      "source": [
        "features_test = test.drop(columns = 'user_word')"
      ]
    },
    {
      "cell_type": "code",
      "execution_count": null,
      "metadata": {
        "id": "_jHVgC9uXO6z"
      },
      "outputs": [],
      "source": [
        "user_word = test['user_word']"
      ]
    },
    {
      "cell_type": "code",
      "execution_count": null,
      "metadata": {
        "id": "DUV6uKyIc0O5"
      },
      "outputs": [],
      "source": [
        "features_test.shape, user_word.shape"
      ]
    },
    {
      "cell_type": "markdown",
      "metadata": {
        "id": "lYoQ-zdWjx-f"
      },
      "source": [
        "## MODEL\n",
        "---"
      ]
    },
    {
      "cell_type": "markdown",
      "metadata": {
        "id": "CHyFWTK6dcIc"
      },
      "source": [
        "###  LogisticRegression  (multi_class='multinomial')\n",
        "\n",
        "---"
      ]
    },
    {
      "cell_type": "code",
      "execution_count": null,
      "metadata": {
        "id": "27v0OwChSb4V"
      },
      "outputs": [],
      "source": [
        "features_train_mn = features_train.copy()\n",
        "features_test_mn = features_test.copy()"
      ]
    },
    {
      "cell_type": "code",
      "execution_count": null,
      "metadata": {
        "id": "fXG6rdhSTsW4"
      },
      "outputs": [],
      "source": [
        "scaler_mn = MinMaxScaler()\n",
        "\n",
        "scaler_mn.fit(features_train_mn)\n",
        "features_train_mn = scaler_mn.transform(features_train_mn)"
      ]
    },
    {
      "cell_type": "code",
      "execution_count": null,
      "metadata": {
        "id": "m0G0JtLNScAZ"
      },
      "outputs": [],
      "source": [
        "features_test_mn = scaler_mn.transform(features_test_mn)"
      ]
    },
    {
      "cell_type": "code",
      "source": [
        "lm = OneVsRestClassifier(\n",
        "    LogisticRegression(\n",
        "        multi_class='multinomial',\n",
        "        solver='lbfgs',\n",
        "        random_state = RANDOM_STATE))"
      ],
      "metadata": {
        "id": "kBqiV-a7Dw7L"
      },
      "execution_count": null,
      "outputs": []
    },
    {
      "cell_type": "code",
      "execution_count": null,
      "metadata": {
        "id": "Orx1Tk_6NzNH"
      },
      "outputs": [],
      "source": [
        "lm.fit(features_train_mn, target)"
      ]
    },
    {
      "cell_type": "code",
      "execution_count": null,
      "metadata": {
        "id": "qgQ6N_WctPRT"
      },
      "outputs": [],
      "source": [
        "preds_train = lm.predict(features_train_mn)"
      ]
    },
    {
      "cell_type": "code",
      "execution_count": null,
      "metadata": {
        "id": "OE7Tuq9UtPRU"
      },
      "outputs": [],
      "source": [
        "plt.figure(figsize = (20, 15))\n",
        "\n",
        "confmatrix = confusion_matrix(\n",
        "        target,\n",
        "        preds_train)\n",
        "f = sns.heatmap(confmatrix,\n",
        "                annot = True,\n",
        "                cmap = 'YlOrRd',\n",
        "                fmt = 'g')\n",
        "\n",
        "f.set_title('Матрица ошибок (Multinomial)')\n",
        "f.set_xlabel('Предсказания')\n",
        "f.set_ylabel('Значения целевого признака')\n",
        "plt.yticks(rotation = 0)\n",
        "plt.show()"
      ]
    },
    {
      "cell_type": "code",
      "execution_count": null,
      "metadata": {
        "id": "MOw_xPFAnwDh"
      },
      "outputs": [],
      "source": [
        "print(classification_report(\n",
        "    target,\n",
        "    preds_train\n",
        "))"
      ]
    },
    {
      "cell_type": "code",
      "execution_count": null,
      "metadata": {
        "id": "L7rsN8leNzQQ"
      },
      "outputs": [],
      "source": [
        "preds = lm.predict(features_test_mn)"
      ]
    },
    {
      "cell_type": "markdown",
      "metadata": {
        "id": "zErKIz-jdjfi"
      },
      "source": [
        "### LogisticRegression (multi_class='ovr')\n",
        "\n",
        "---"
      ]
    },
    {
      "cell_type": "code",
      "execution_count": null,
      "metadata": {
        "id": "vuv3GHTFWDFV"
      },
      "outputs": [],
      "source": [
        "features_train_ovr = features_train.copy()\n",
        "features_test_ovr = features_test.copy()"
      ]
    },
    {
      "cell_type": "code",
      "execution_count": null,
      "metadata": {
        "id": "LecZihBzWDFt"
      },
      "outputs": [],
      "source": [
        "scaler_ovr = MinMaxScaler()\n",
        "\n",
        "scaler_ovr.fit(features_train_ovr)\n",
        "features_train_ovr = scaler_ovr.transform(features_train_ovr)"
      ]
    },
    {
      "cell_type": "code",
      "execution_count": null,
      "metadata": {
        "id": "ubTXbUvaWDFt"
      },
      "outputs": [],
      "source": [
        "features_test_ovr = scaler_ovr.transform(features_test_ovr)"
      ]
    },
    {
      "cell_type": "code",
      "source": [
        "lm = OneVsRestClassifier(\n",
        "    LogisticRegression(\n",
        "        multi_class='ovr',\n",
        "        solver='lbfgs',\n",
        "        random_state = RANDOM_STATE))"
      ],
      "metadata": {
        "id": "DdNK0fIY4VHx"
      },
      "execution_count": null,
      "outputs": []
    },
    {
      "cell_type": "code",
      "execution_count": null,
      "metadata": {
        "id": "stsn7AzGdi4k"
      },
      "outputs": [],
      "source": [
        "lm.fit(features_train_ovr, target)"
      ]
    },
    {
      "cell_type": "code",
      "execution_count": null,
      "metadata": {
        "id": "QKNxX9e_tqm6"
      },
      "outputs": [],
      "source": [
        "preds_train = lm.predict(features_train_ovr)"
      ]
    },
    {
      "cell_type": "code",
      "execution_count": null,
      "metadata": {
        "id": "U0LJgB4Otqm8"
      },
      "outputs": [],
      "source": [
        "plt.figure(figsize = (17, 15))\n",
        "\n",
        "confmatrix = confusion_matrix(\n",
        "        target,\n",
        "        preds_train)\n",
        "f = sns.heatmap(confmatrix,\n",
        "                annot = True,\n",
        "                cmap = 'YlOrRd',\n",
        "                fmt = 'g')\n",
        "\n",
        "f.set_title('Матрица ошибок (OVR)')\n",
        "f.set_xlabel('Предсказания')\n",
        "f.set_ylabel('Значения целевого признака')\n",
        "plt.yticks(rotation = 0)\n",
        "plt.show()"
      ]
    },
    {
      "cell_type": "code",
      "execution_count": null,
      "metadata": {
        "id": "RKz9upyonIZu"
      },
      "outputs": [],
      "source": [
        "print(classification_report(\n",
        "    target,\n",
        "    preds_train\n",
        "))"
      ]
    },
    {
      "cell_type": "code",
      "execution_count": null,
      "metadata": {
        "id": "w5UE7fHKdi4k"
      },
      "outputs": [],
      "source": [
        "preds = lm.predict(features_test_ovr)"
      ]
    },
    {
      "cell_type": "code",
      "execution_count": null,
      "metadata": {
        "id": "9_WZsJKIUxYD"
      },
      "outputs": [],
      "source": [
        "submit = pd.DataFrame()\n",
        "\n",
        "submit['user_word'] = user_word\n",
        "submit['preds'] = preds"
      ]
    },
    {
      "cell_type": "code",
      "execution_count": null,
      "metadata": {
        "id": "esVQqgB3UxbP"
      },
      "outputs": [],
      "source": [
        "submit.head()"
      ]
    },
    {
      "cell_type": "code",
      "execution_count": null,
      "metadata": {
        "id": "9MMzubs9Cclt"
      },
      "outputs": [],
      "source": [
        "user_word_frequency = pd.DataFrame(\n",
        "    data = submit['user_word'].value_counts(ascending = False)\n",
        ")\n",
        "user_word_frequency.columns = ['quantity']\n",
        "user_word_frequency"
      ]
    },
    {
      "cell_type": "code",
      "execution_count": null,
      "metadata": {
        "id": "dEi3rWNZCDb2"
      },
      "outputs": [],
      "source": [
        "less_than_51 = [\n",
        "    user_word_frequency.index.values[i]\n",
        "    for i in range(len(user_word_frequency['quantity']))\n",
        "    if user_word_frequency['quantity'][i] < 51\n",
        "]"
      ]
    },
    {
      "cell_type": "code",
      "execution_count": null,
      "metadata": {
        "id": "GqrtvQ6zGXjq"
      },
      "outputs": [],
      "source": [
        "less_than_51.sort()\n",
        "less_than_51"
      ]
    },
    {
      "cell_type": "code",
      "execution_count": null,
      "metadata": {
        "id": "Md-sY9hHLx-6"
      },
      "outputs": [],
      "source": [
        "submit['preds'].unique()"
      ]
    },
    {
      "cell_type": "code",
      "execution_count": null,
      "metadata": {
        "id": "HkAeZ6afLyBz"
      },
      "outputs": [],
      "source": [
        "submit['preds'].nunique()"
      ]
    },
    {
      "cell_type": "code",
      "execution_count": null,
      "metadata": {
        "id": "0wokNPMOy-li"
      },
      "outputs": [],
      "source": [
        "submit_file = pd.DataFrame(\n",
        "    submit.groupby('user_word')['preds'].agg(\n",
        "        lambda x: x.value_counts().index[0])\n",
        "    )"
      ]
    },
    {
      "cell_type": "code",
      "execution_count": null,
      "metadata": {
        "id": "SvXk7yriH3Hw"
      },
      "outputs": [],
      "source": [
        "submit_file['new_preds'] = [\n",
        "    -999 if submit_file.index.values[i] in less_than_51\n",
        "    else submit_file['preds'][i]\n",
        "    for i in range(len(submit_file['preds']))\n",
        "]"
      ]
    },
    {
      "cell_type": "code",
      "execution_count": null,
      "metadata": {
        "id": "2E7Bz29MK7jC"
      },
      "outputs": [],
      "source": [
        "submit_file = submit_file.drop(columns = ['preds'])\n",
        "\n",
        "submit_file.columns = ['preds']"
      ]
    },
    {
      "cell_type": "code",
      "execution_count": null,
      "metadata": {
        "id": "ZUiYmqdAy-oL"
      },
      "outputs": [],
      "source": [
        "submit_file"
      ]
    },
    {
      "cell_type": "code",
      "execution_count": null,
      "metadata": {
        "id": "OjmjhWx4gOuk"
      },
      "outputs": [],
      "source": [
        "submit_file['preds'].nunique()"
      ]
    },
    {
      "cell_type": "code",
      "execution_count": null,
      "metadata": {
        "id": "_Hdo4ySLy-q-"
      },
      "outputs": [],
      "source": [
        "submit_file.to_csv('submit_file.csv')"
      ]
    },
    {
      "cell_type": "code",
      "execution_count": null,
      "metadata": {
        "id": "RT69x-_Dy-tp"
      },
      "outputs": [],
      "source": [
        "data = pd.read_csv('/content/submit_file.csv')"
      ]
    },
    {
      "cell_type": "code",
      "execution_count": null,
      "metadata": {
        "id": "HtDIWu1_y-x2"
      },
      "outputs": [],
      "source": [
        "data"
      ]
    },
    {
      "cell_type": "markdown",
      "source": [
        "## BOOSTING\n",
        "\n",
        "---"
      ],
      "metadata": {
        "id": "V3Puh4C258bt"
      }
    },
    {
      "cell_type": "code",
      "execution_count": null,
      "metadata": {
        "id": "OO0r9R5gWXgC"
      },
      "outputs": [],
      "source": [
        "catboost = CatBoostClassifier(\n",
        "    random_state = RANDOM_STATE,\n",
        "    logging_level = 'Silent',\n",
        "    loss_function = 'MultiClassOneVsAll'\n",
        ")"
      ]
    },
    {
      "cell_type": "code",
      "execution_count": null,
      "metadata": {
        "id": "YYZdVt8zWXgD"
      },
      "outputs": [],
      "source": [
        "pipe_catboost = imb_pipeline([\n",
        "    ('feature_select', SelectKBest(score_func = chi2)),\n",
        "    ('catboost', catboost)\n",
        "])"
      ]
    },
    {
      "cell_type": "code",
      "execution_count": null,
      "metadata": {
        "id": "Uh51_Ic8WXgE"
      },
      "outputs": [],
      "source": [
        "pipe_catboost"
      ]
    },
    {
      "cell_type": "code",
      "execution_count": null,
      "metadata": {
        "id": "ryY-vBhIWXgF"
      },
      "outputs": [],
      "source": [
        "pd.DataFrame(pipe_catboost.get_params().keys())"
      ]
    },
    {
      "cell_type": "code",
      "execution_count": null,
      "metadata": {
        "id": "2GdacmYnWXgF"
      },
      "outputs": [],
      "source": [
        "params_catboost = {\n",
        "    'feature_select__k': [60],\n",
        "    #'catboost__learning_rate': [0.0001, 0.001, 0.01, 0.1]\n",
        "}"
      ]
    },
    {
      "cell_type": "code",
      "execution_count": null,
      "metadata": {
        "id": "OZ0m5NUuWXgG"
      },
      "outputs": [],
      "source": [
        "grid_catboost = RandomizedSearchCV(\n",
        "    pipe_catboost,\n",
        "    params_catboost,\n",
        "    n_iter = 10,\n",
        "    scoring = 'roc_auc',\n",
        "    verbose = 1,\n",
        "    cv = cv,\n",
        "    refit = True,\n",
        "    random_state = RANDOM_STATE,\n",
        "    n_jobs = -1)"
      ]
    },
    {
      "cell_type": "code",
      "execution_count": null,
      "metadata": {
        "id": "iiozF1wVWXgH"
      },
      "outputs": [],
      "source": [
        "start = datetime.now()\n",
        "\n",
        "grid_catboost.fit(features_train, target)\n",
        "\n",
        "catboost_time_spent = datetime.now() - start\n",
        "print('Время обучения модели CatBoostClassifier:\\n',\n",
        "      catboost_time_spent)"
      ]
    },
    {
      "cell_type": "code",
      "execution_count": null,
      "metadata": {
        "id": "oAKphwRIWXgI"
      },
      "outputs": [],
      "source": [
        "best_catboost = grid_catboost.best_estimator_\n",
        "best_catboost"
      ]
    },
    {
      "cell_type": "code",
      "execution_count": null,
      "metadata": {
        "id": "BinmEIndWXgI"
      },
      "outputs": [],
      "source": [
        "grid_catboost.best_params_"
      ]
    },
    {
      "cell_type": "code",
      "execution_count": null,
      "metadata": {
        "id": "j2JnqM8J_cYL"
      },
      "outputs": [],
      "source": [
        "preds_train = best_catboost.predict(features_train)"
      ]
    },
    {
      "cell_type": "code",
      "execution_count": null,
      "metadata": {
        "id": "dkvbojvu_cYi"
      },
      "outputs": [],
      "source": [
        "plt.figure(figsize = (17, 15))\n",
        "\n",
        "confmatrix = confusion_matrix(\n",
        "        target,\n",
        "        preds_train)\n",
        "f = sns.heatmap(confmatrix,\n",
        "                annot = True,\n",
        "                cmap = 'YlOrRd',\n",
        "                fmt = 'g')\n",
        "\n",
        "f.set_title('Матрица ошибок (OVR)')\n",
        "f.set_xlabel('Предсказания')\n",
        "f.set_ylabel('Значения целевого признака')\n",
        "plt.yticks(rotation = 0)\n",
        "plt.show()"
      ]
    },
    {
      "cell_type": "code",
      "execution_count": null,
      "metadata": {
        "id": "7KDlFZwn_cYi"
      },
      "outputs": [],
      "source": [
        "print(classification_report(\n",
        "    target,\n",
        "    preds_train\n",
        "))"
      ]
    },
    {
      "cell_type": "code",
      "execution_count": null,
      "metadata": {
        "id": "N-_uEtLa_cYj"
      },
      "outputs": [],
      "source": [
        "preds = best_catboost.predict(features_test)"
      ]
    },
    {
      "cell_type": "code",
      "source": [
        "submit = pd.DataFrame()\n",
        "\n",
        "submit['user_word'] = user_word\n",
        "submit['preds'] = preds"
      ],
      "metadata": {
        "id": "H6SAfvnh03_X"
      },
      "execution_count": null,
      "outputs": []
    },
    {
      "cell_type": "code",
      "execution_count": null,
      "metadata": {
        "id": "iWCUveijB_am"
      },
      "outputs": [],
      "source": [
        "submit.head()"
      ]
    },
    {
      "cell_type": "code",
      "execution_count": null,
      "metadata": {
        "id": "TUa-e31aB_ap"
      },
      "outputs": [],
      "source": [
        "np.sort(submit['preds'].unique())"
      ]
    },
    {
      "cell_type": "code",
      "execution_count": null,
      "metadata": {
        "id": "bMSbykzvB_ap"
      },
      "outputs": [],
      "source": [
        "submit['preds'].nunique()"
      ]
    },
    {
      "cell_type": "code",
      "execution_count": null,
      "metadata": {
        "id": "ywn6Eu2uB_aq"
      },
      "outputs": [],
      "source": [
        "submit_file = pd.DataFrame(\n",
        "    submit.groupby('user_word')['preds'].agg(\n",
        "        lambda x: x.value_counts().index[0])\n",
        "    )"
      ]
    },
    {
      "cell_type": "code",
      "execution_count": null,
      "metadata": {
        "id": "iOk9EzwJB_ar"
      },
      "outputs": [],
      "source": [
        "submit_file"
      ]
    },
    {
      "cell_type": "code",
      "execution_count": null,
      "metadata": {
        "id": "8j-AttZOB_as"
      },
      "outputs": [],
      "source": [
        "submit_file['preds'].nunique()"
      ]
    },
    {
      "cell_type": "code",
      "execution_count": null,
      "metadata": {
        "id": "TSs1oNnTB_as"
      },
      "outputs": [],
      "source": [
        "submit_file.to_csv('submit_file.csv')"
      ]
    },
    {
      "cell_type": "code",
      "execution_count": null,
      "metadata": {
        "id": "g2oY9cpUB_at"
      },
      "outputs": [],
      "source": [
        "data = pd.read_csv('/content/submit_file.csv')"
      ]
    },
    {
      "cell_type": "code",
      "execution_count": null,
      "metadata": {
        "id": "XnVzHUjpB_at"
      },
      "outputs": [],
      "source": [
        "data"
      ]
    },
    {
      "cell_type": "code",
      "source": [],
      "metadata": {
        "id": "nQnw7z1Q5ruF"
      },
      "execution_count": null,
      "outputs": []
    }
  ],
  "metadata": {
    "colab": {
      "provenance": []
    },
    "kernelspec": {
      "display_name": "Python 3",
      "name": "python3"
    },
    "language_info": {
      "name": "python"
    }
  },
  "nbformat": 4,
  "nbformat_minor": 0
}